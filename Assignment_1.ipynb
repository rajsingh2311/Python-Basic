{
  "nbformat": 4,
  "nbformat_minor": 0,
  "metadata": {
    "colab": {
      "provenance": []
    },
    "kernelspec": {
      "name": "python3",
      "display_name": "Python 3"
    },
    "language_info": {
      "name": "python"
    }
  },
  "cells": [
    {
      "cell_type": "code",
      "execution_count": null,
      "metadata": {
        "id": "YRqu5mE41xdI"
      },
      "outputs": [],
      "source": []
    },
    {
      "cell_type": "markdown",
      "source": [
        " **1. What is Python, and why is it popular? **\n",
        " Answer: Python is a programming langauguage to communicate with computer. python are widely used in indutry and there a huge Active communnity in pythin arround 55000 library are in python and its easy to understand\n",
        "\n",
        "\n",
        "**What is an interpreter in Python ?**\n",
        "A Python interpreter is a program that executes Python code line by line, translating it into machine-readable instructions for execution."
      ],
      "metadata": {
        "id": "0vump0FH17Ax"
      }
    },
    {
      "cell_type": "markdown",
      "source": [
        "**What are pre-defined keywords in Python **\n",
        "Pre-defined keywords in Python are reserved words with special meanings, used for syntax and cannot be redefined as identifiers.\n",
        "\n",
        "\n",
        "\n",
        "\n",
        "\n",
        "\n",
        "\n"
      ],
      "metadata": {
        "id": "gYKzSA9T3DAw"
      }
    },
    {
      "cell_type": "markdown",
      "source": [
        "**4. Can keywords be used as variable names**\n",
        "\n",
        "No we can not used predefine keyword of python as variable because if we used they keyword lose there actual property"
      ],
      "metadata": {
        "id": "Tgkb_1Cd3RTx"
      }
    },
    {
      "cell_type": "markdown",
      "source": [
        "**5.  What is mutability in Python**\n",
        "**Answer ** Mutability in Python refers to an object's ability to change.\n"
      ],
      "metadata": {
        "id": "s-wmLHBH32AC"
      }
    },
    {
      "cell_type": "markdown",
      "source": [
        "**Why are lists mutable, but tuples are immutable**\n",
        "**Answer** Lists are mutable for flexibility, tuples are immutable for consistency."
      ],
      "metadata": {
        "id": "3UEmbvHt4LPz"
      }
    },
    {
      "cell_type": "markdown",
      "source": [
        "** 7.What is the difference between “==” and “is” operators in Python**\n",
        "\n",
        "**Answer**  `==` checks value equality between objects, while `is` checks if two objects refer to the same memory location (identity)."
      ],
      "metadata": {
        "id": "lW49G0Pc4u6S"
      }
    },
    {
      "cell_type": "markdown",
      "source": [
        "**8. What are logical operators in Python**\n",
        "\n",
        "**Answer** Logical operators in Python are used to combine conditional statements, returning True or False based on logic** ex. AND, OR, NOT**"
      ],
      "metadata": {
        "id": "4qduEowP4_wi"
      }
    },
    {
      "cell_type": "markdown",
      "source": [
        "**9.What is type casting in Python?**\n",
        "\n",
        "Answer:-  Type casting in Python converts one data type to another, such as int to float, using functions like int(), str()."
      ],
      "metadata": {
        "id": "Jb8n02OS5ZhY"
      }
    },
    {
      "cell_type": "markdown",
      "source": [
        "** 10.What is the difference between implicit and explicit type casting**\n",
        "\n",
        "Answer:- Implicit casting automatically converts types; explicit requires manual conversion using functions."
      ],
      "metadata": {
        "id": "3xrL8nst5sxr"
      }
    },
    {
      "cell_type": "markdown",
      "source": [
        "** 11.What is the purpose of conditional statements in Python**\n",
        "\n",
        "Answer:- Conditional statements in Python control program flow, allowing different actions based on conditions using `if`, `elif`, and `else`."
      ],
      "metadata": {
        "id": "aSBdjrGG7RvJ"
      }
    },
    {
      "cell_type": "markdown",
      "source": [
        "**12. How does the elif statement work?**\n",
        "\n",
        "Answer:- The `elif` statement checks additional conditions if the preceding `if` condition is false, allowing multiple choices."
      ],
      "metadata": {
        "id": "HfBHQz-97fyA"
      }
    },
    {
      "cell_type": "markdown",
      "source": [
        "**13. What is the difference between for and while loops ?**\n",
        "\n",
        "Answer:- `for` loops iterate over a sequence, while `while` loops repeat until a condition is false."
      ],
      "metadata": {
        "id": "m5XwsEoJ7vSO"
      }
    },
    {
      "cell_type": "markdown",
      "source": [
        "** 14. Describe a scenario where a while loop is more suitable than a for loop**\n",
        "\n",
        "Answer:- A while loop is suitable for scenarios where the number of iterations is unknown and depends on a condition being met."
      ],
      "metadata": {
        "id": "866zzGkb8COZ"
      }
    },
    {
      "cell_type": "markdown",
      "source": [
        "#1. Write a Python program to print \"Hello, World"
      ],
      "metadata": {
        "id": "z817c1yJ_2zO"
      }
    },
    {
      "cell_type": "code",
      "source": [
        "\n",
        "\n",
        "print(\"Hello, World\")"
      ],
      "metadata": {
        "id": "ksTNt54w8Pnh"
      },
      "execution_count": null,
      "outputs": []
    },
    {
      "cell_type": "markdown",
      "source": [
        "#2. Write a Python program that displays your name and age"
      ],
      "metadata": {
        "id": "bSePG7HB_7jN"
      }
    },
    {
      "cell_type": "code",
      "source": [
        "\n",
        "\n",
        "name = \"Ritesh Singh\"\n",
        "age = 22\n",
        "\n",
        "print(name)\n",
        "print(age)\n"
      ],
      "metadata": {
        "colab": {
          "base_uri": "https://localhost:8080/"
        },
        "id": "GCaESDzJ8as_",
        "outputId": "e8b766c0-a245-430c-e808-c87bcfec1644"
      },
      "execution_count": 4,
      "outputs": [
        {
          "output_type": "stream",
          "name": "stdout",
          "text": [
            "Ritesh Singh\n",
            "22\n"
          ]
        }
      ]
    },
    {
      "cell_type": "markdown",
      "source": [
        "#3. Write a Python program that prints the Python predefined keywords"
      ],
      "metadata": {
        "id": "vFEn20ouAAMJ"
      }
    },
    {
      "cell_type": "code",
      "source": [
        "\n",
        "import keyword\n",
        "print(\"Python predefined keywords:\")\n",
        "print(keyword.kwlist)"
      ],
      "metadata": {
        "colab": {
          "base_uri": "https://localhost:8080/"
        },
        "id": "sDPCCTCm9VkZ",
        "outputId": "69bf78fb-c5f3-4d0b-9cf4-e6b8bb49dc74"
      },
      "execution_count": 5,
      "outputs": [
        {
          "output_type": "stream",
          "name": "stdout",
          "text": [
            "Python predefined keywords:\n",
            "['False', 'None', 'True', 'and', 'as', 'assert', 'async', 'await', 'break', 'class', 'continue', 'def', 'del', 'elif', 'else', 'except', 'finally', 'for', 'from', 'global', 'if', 'import', 'in', 'is', 'lambda', 'nonlocal', 'not', 'or', 'pass', 'raise', 'return', 'try', 'while', 'with', 'yield']\n"
          ]
        }
      ]
    },
    {
      "cell_type": "markdown",
      "source": [
        "#  4. Write a program that checks if a given word is a Python keyword"
      ],
      "metadata": {
        "id": "a_TNfVaWAFhX"
      }
    },
    {
      "cell_type": "code",
      "source": [
        "\n",
        "import keyword\n",
        "def check_keyword(word):\n",
        "    if keyword.iskeyword(word):\n",
        "        print(f\"'{word}' is a Python keyword.\")\n",
        "    else:\n",
        "        print(f\"'{word}' is not a Python keyword.\")\n",
        "\n",
        "word = input(\"Enter a word to check if it's a Python keyword: \")\n",
        "check_keyword(word)\n"
      ],
      "metadata": {
        "colab": {
          "base_uri": "https://localhost:8080/",
          "height": 356
        },
        "collapsed": true,
        "id": "FD4R4cLe-BqH",
        "outputId": "75f06141-885d-44ce-fb45-0eeacc2b3337"
      },
      "execution_count": 7,
      "outputs": [
        {
          "output_type": "error",
          "ename": "KeyboardInterrupt",
          "evalue": "Interrupted by user",
          "traceback": [
            "\u001b[0;31m---------------------------------------------------------------------------\u001b[0m",
            "\u001b[0;31mKeyboardInterrupt\u001b[0m                         Traceback (most recent call last)",
            "\u001b[0;32m<ipython-input-7-3c3941b48cd2>\u001b[0m in \u001b[0;36m<cell line: 9>\u001b[0;34m()\u001b[0m\n\u001b[1;32m      7\u001b[0m         \u001b[0mprint\u001b[0m\u001b[0;34m(\u001b[0m\u001b[0;34mf\"'{word}' is not a Python keyword.\"\u001b[0m\u001b[0;34m)\u001b[0m\u001b[0;34m\u001b[0m\u001b[0;34m\u001b[0m\u001b[0m\n\u001b[1;32m      8\u001b[0m \u001b[0;34m\u001b[0m\u001b[0m\n\u001b[0;32m----> 9\u001b[0;31m \u001b[0mword\u001b[0m \u001b[0;34m=\u001b[0m \u001b[0minput\u001b[0m\u001b[0;34m(\u001b[0m\u001b[0;34m\"Enter a word to check if it's a Python keyword: \"\u001b[0m\u001b[0;34m)\u001b[0m\u001b[0;34m\u001b[0m\u001b[0;34m\u001b[0m\u001b[0m\n\u001b[0m\u001b[1;32m     10\u001b[0m \u001b[0mcheck_keyword\u001b[0m\u001b[0;34m(\u001b[0m\u001b[0mword\u001b[0m\u001b[0;34m)\u001b[0m\u001b[0;34m\u001b[0m\u001b[0;34m\u001b[0m\u001b[0m\n",
            "\u001b[0;32m/usr/local/lib/python3.10/dist-packages/ipykernel/kernelbase.py\u001b[0m in \u001b[0;36mraw_input\u001b[0;34m(self, prompt)\u001b[0m\n\u001b[1;32m    849\u001b[0m                 \u001b[0;34m\"raw_input was called, but this frontend does not support input requests.\"\u001b[0m\u001b[0;34m\u001b[0m\u001b[0;34m\u001b[0m\u001b[0m\n\u001b[1;32m    850\u001b[0m             )\n\u001b[0;32m--> 851\u001b[0;31m         return self._input_request(str(prompt),\n\u001b[0m\u001b[1;32m    852\u001b[0m             \u001b[0mself\u001b[0m\u001b[0;34m.\u001b[0m\u001b[0m_parent_ident\u001b[0m\u001b[0;34m,\u001b[0m\u001b[0;34m\u001b[0m\u001b[0;34m\u001b[0m\u001b[0m\n\u001b[1;32m    853\u001b[0m             \u001b[0mself\u001b[0m\u001b[0;34m.\u001b[0m\u001b[0m_parent_header\u001b[0m\u001b[0;34m,\u001b[0m\u001b[0;34m\u001b[0m\u001b[0;34m\u001b[0m\u001b[0m\n",
            "\u001b[0;32m/usr/local/lib/python3.10/dist-packages/ipykernel/kernelbase.py\u001b[0m in \u001b[0;36m_input_request\u001b[0;34m(self, prompt, ident, parent, password)\u001b[0m\n\u001b[1;32m    893\u001b[0m             \u001b[0;32mexcept\u001b[0m \u001b[0mKeyboardInterrupt\u001b[0m\u001b[0;34m:\u001b[0m\u001b[0;34m\u001b[0m\u001b[0;34m\u001b[0m\u001b[0m\n\u001b[1;32m    894\u001b[0m                 \u001b[0;31m# re-raise KeyboardInterrupt, to truncate traceback\u001b[0m\u001b[0;34m\u001b[0m\u001b[0;34m\u001b[0m\u001b[0m\n\u001b[0;32m--> 895\u001b[0;31m                 \u001b[0;32mraise\u001b[0m \u001b[0mKeyboardInterrupt\u001b[0m\u001b[0;34m(\u001b[0m\u001b[0;34m\"Interrupted by user\"\u001b[0m\u001b[0;34m)\u001b[0m \u001b[0;32mfrom\u001b[0m \u001b[0;32mNone\u001b[0m\u001b[0;34m\u001b[0m\u001b[0;34m\u001b[0m\u001b[0m\n\u001b[0m\u001b[1;32m    896\u001b[0m             \u001b[0;32mexcept\u001b[0m \u001b[0mException\u001b[0m \u001b[0;32mas\u001b[0m \u001b[0me\u001b[0m\u001b[0;34m:\u001b[0m\u001b[0;34m\u001b[0m\u001b[0;34m\u001b[0m\u001b[0m\n\u001b[1;32m    897\u001b[0m                 \u001b[0mself\u001b[0m\u001b[0;34m.\u001b[0m\u001b[0mlog\u001b[0m\u001b[0;34m.\u001b[0m\u001b[0mwarning\u001b[0m\u001b[0;34m(\u001b[0m\u001b[0;34m\"Invalid Message:\"\u001b[0m\u001b[0;34m,\u001b[0m \u001b[0mexc_info\u001b[0m\u001b[0;34m=\u001b[0m\u001b[0;32mTrue\u001b[0m\u001b[0;34m)\u001b[0m\u001b[0;34m\u001b[0m\u001b[0;34m\u001b[0m\u001b[0m\n",
            "\u001b[0;31mKeyboardInterrupt\u001b[0m: Interrupted by user"
          ]
        }
      ]
    },
    {
      "cell_type": "markdown",
      "source": [
        "#5. Create a list and tuple in Python, and demonstrate how attempting to change an element works differently\n",
        "for each"
      ],
      "metadata": {
        "id": "O0WM9UcVAEHZ"
      }
    },
    {
      "cell_type": "code",
      "source": [
        "\n",
        "\n",
        "my_list = [1, 2, 3, 4, 5]\n",
        "my_tuple = (1, 2, 3, 4, 5)\n",
        "\n",
        "print(my_list)\n",
        "print(my_tuple)"
      ],
      "metadata": {
        "colab": {
          "base_uri": "https://localhost:8080/"
        },
        "id": "temY_bYt-VeP",
        "outputId": "e0d12bca-d53c-4e7f-bbf9-90612994854d"
      },
      "execution_count": 1,
      "outputs": [
        {
          "output_type": "stream",
          "name": "stdout",
          "text": [
            "[1, 2, 3, 4, 5]\n",
            "(1, 2, 3, 4, 5)\n"
          ]
        }
      ]
    },
    {
      "cell_type": "markdown",
      "source": [
        "# 6. Write a function to demonstrate the behavior of mutable and immutable arguments."
      ],
      "metadata": {
        "id": "CIQkKR2PAb7d"
      }
    },
    {
      "cell_type": "code",
      "source": [
        "\n",
        "\n",
        "def modify_list(lst):\n",
        "    lst.append(6)\n",
        "\n",
        "def modify_tuple(tup):\n",
        "    new_tup = tup + (6,)\n",
        "    return new"
      ],
      "metadata": {
        "id": "ldSu8hIn-3O7"
      },
      "execution_count": 4,
      "outputs": []
    },
    {
      "cell_type": "markdown",
      "source": [
        " # 7. Write a function to demonstrate the behavior of mutable and immutable arguments"
      ],
      "metadata": {
        "id": "OWw29QoEAk-y"
      }
    },
    {
      "cell_type": "code",
      "source": [
        "\n",
        "\n",
        "def modify_list(lst):\n",
        "    lst.append(6)\n",
        "\n",
        "def modify_tuple(tup):\n",
        "    new_tup = tup + (6,)\n",
        "    return new_tup"
      ],
      "metadata": {
        "id": "zxf3HuEO_omq"
      },
      "execution_count": null,
      "outputs": []
    },
    {
      "cell_type": "markdown",
      "source": [
        "#8. Write a program to demonstrate the use of logical operators"
      ],
      "metadata": {
        "id": "eSeRuYnuAj02"
      }
    },
    {
      "cell_type": "code",
      "source": [
        "\n",
        "# Defining some conditions\n",
        "a = True\n",
        "b = False\n",
        "x = 10\n",
        "y = 5\n",
        "\n",
        "# Using 'and' operator\n",
        "print(\"Using 'and' operator:\")\n",
        "if a and b:\n",
        "    print(\"Both conditions are True.\")\n",
        "else:\n",
        "    print(\"At least one condition is False.\")\n",
        "\n",
        "# Using 'or' operator\n",
        "print(\"\\nUsing 'or' operator:\")\n",
        "if a or b:\n",
        "    print(\"At least one condition is True.\")\n",
        "else:\n",
        "    print(\"Both conditions are False.\")\n",
        "\n",
        "# Using 'not' operator\n",
        "print(\"\\nUsing 'not' operator:\")\n",
        "if not b:\n",
        "    print(\"The condition is False, but 'not' makes it True.\")\n",
        "\n",
        "# Additional example: Combining conditions\n",
        "print(\"\\nCombining conditions with 'and' and 'or':\")\n",
        "if (x > y) and (a or b):\n",
        "    print(\"x is greater than y and at least one condition is True.\")\n",
        "else:\n",
        "    print(\"Either x is not greater than y or both conditions are False.\")\n"
      ],
      "metadata": {
        "colab": {
          "base_uri": "https://localhost:8080/"
        },
        "id": "tq2ZQgMsA7MN",
        "outputId": "2fcf38d9-0ffe-4b69-f583-ea5a4d6b7a87"
      },
      "execution_count": 5,
      "outputs": [
        {
          "output_type": "stream",
          "name": "stdout",
          "text": [
            "Using 'and' operator:\n",
            "At least one condition is False.\n",
            "\n",
            "Using 'or' operator:\n",
            "At least one condition is True.\n",
            "\n",
            "Using 'not' operator:\n",
            "The condition is False, but 'not' makes it True.\n",
            "\n",
            "Combining conditions with 'and' and 'or':\n",
            "x is greater than y and at least one condition is True.\n"
          ]
        }
      ]
    },
    {
      "cell_type": "markdown",
      "source": [
        "# 9.Write a Python program to convert user input from string to integer, float, and boolean types"
      ],
      "metadata": {
        "id": "VZzrVG7wBXBE"
      }
    },
    {
      "cell_type": "code",
      "source": [
        "\n",
        "# Taking input from the user\n",
        "user_input = input(\"Enter a value: \")\n",
        "\n",
        "# Convert to integer\n",
        "try:\n",
        "    int_value = int(user_input)\n",
        "    print(f\"Integer value: {int_value}\")\n",
        "except ValueError:\n",
        "    print(\"Invalid input for integer conversion.\")\n",
        "\n",
        "# Convert to float\n",
        "try:\n",
        "    float_value = float(user_input)\n",
        "    print(f\"Float value: {float_value}\")\n",
        "except ValueError:\n",
        "    print(\"Invalid input for float conversion.\")\n",
        "\n",
        "# Convert to boolean\n",
        "# An empty string converts to False, anything else converts to True\n",
        "boolean_value = bool(user_input)\n",
        "print(f\"Boolean value: {boolean_value}\")\n"
      ],
      "metadata": {
        "colab": {
          "base_uri": "https://localhost:8080/"
        },
        "id": "uG9P7oZJBdU5",
        "outputId": "a19ed6f7-800d-4bfb-aabc-8ef0178e0cee"
      },
      "execution_count": 7,
      "outputs": [
        {
          "output_type": "stream",
          "name": "stdout",
          "text": [
            "Enter a value: 55\n",
            "Integer value: 55\n",
            "Float value: 55.0\n",
            "Boolean value: True\n"
          ]
        }
      ]
    },
    {
      "cell_type": "markdown",
      "source": [
        "# 10. Write code to demonstrate type casting with list elements"
      ],
      "metadata": {
        "id": "f_7f1OwOB-CO"
      }
    },
    {
      "cell_type": "code",
      "source": [
        "\n",
        "\n",
        "# Original list with different data types\n",
        "my_list = [\"1\", \"2\", \"3.5\", \"True\", \"4\"]\n",
        "\n",
        "# Convert all string elements to integers\n",
        "int_list = [int(item) if item.isdigit() else 0 for item in my_list]\n",
        "print(\"List after converting strings to integers:\", int_list)\n",
        "\n",
        "# Convert all string elements to floats\n",
        "float_list = [float(item) if item.replace('.', '', 1).isdigit() else 0.0 for item in my_list]\n",
        "print(\"List after converting strings to floats:\", float_list)\n",
        "\n",
        "# Convert all string elements to booleans\n",
        "bool_list = [bool(item) for item in my_list]\n",
        "print(\"List after converting strings to booleans:\", bool_list)\n"
      ],
      "metadata": {
        "colab": {
          "base_uri": "https://localhost:8080/"
        },
        "id": "9ElRzrT8CIzM",
        "outputId": "e8edd342-61dc-4403-ade2-1412e4990ae6"
      },
      "execution_count": 8,
      "outputs": [
        {
          "output_type": "stream",
          "name": "stdout",
          "text": [
            "List after converting strings to integers: [1, 2, 0, 0, 4]\n",
            "List after converting strings to floats: [1.0, 2.0, 3.5, 0.0, 4.0]\n",
            "List after converting strings to booleans: [True, True, True, True, True]\n"
          ]
        }
      ]
    },
    {
      "cell_type": "markdown",
      "source": [
        "# 11. Write a program that checks if a number is positive, negative, or zero"
      ],
      "metadata": {
        "id": "Fu_BsT3ICbgZ"
      }
    },
    {
      "cell_type": "code",
      "source": [
        "# Taking input from the user\n",
        "num = float(input(\"Enter a number: \"))\n",
        "\n",
        "# Checking if the number is positive, negative, or zero\n",
        "if num > 0:\n",
        "    print(f\"{num} is a positive number.\")\n",
        "elif num < 0:\n",
        "    print(f\"{num} is a negative number.\")\n",
        "else:\n",
        "    print(f\"{num} is zero.\")\n"
      ],
      "metadata": {
        "colab": {
          "base_uri": "https://localhost:8080/"
        },
        "id": "mNHF1IayCfqA",
        "outputId": "5cba0e73-c79c-4b0b-a500-9a771d3f7f2d"
      },
      "execution_count": 9,
      "outputs": [
        {
          "output_type": "stream",
          "name": "stdout",
          "text": [
            "Enter a number: -45\n",
            "-45.0 is a negative number.\n"
          ]
        }
      ]
    },
    {
      "cell_type": "markdown",
      "source": [
        "#12 Write a for loop to print numbers from 1 to 10\n"
      ],
      "metadata": {
        "id": "VcvTtv3uCxU4"
      }
    },
    {
      "cell_type": "code",
      "source": [
        "for i in range(1, 11):\n",
        "    print(i)"
      ],
      "metadata": {
        "colab": {
          "base_uri": "https://localhost:8080/"
        },
        "id": "pU55RHqEDUdU",
        "outputId": "869ebc8e-6c3c-471f-b58f-e895d28a9d84"
      },
      "execution_count": 10,
      "outputs": [
        {
          "output_type": "stream",
          "name": "stdout",
          "text": [
            "1\n",
            "2\n",
            "3\n",
            "4\n",
            "5\n",
            "6\n",
            "7\n",
            "8\n",
            "9\n",
            "10\n"
          ]
        }
      ]
    },
    {
      "cell_type": "markdown",
      "source": [
        "#13. Write a Python program to find the sum of all even numbers between 1 and 50"
      ],
      "metadata": {
        "id": "rdO_LyPdDvrw"
      }
    },
    {
      "cell_type": "code",
      "source": [
        "sum_even_numbers = 0\n",
        "for num in range(1, 51):\n",
        "    if num % 2 == 0:  # Check if the number is even\n",
        "        sum_even_numbers += num\n",
        "print(\"Sum of all even numbers between 1 and 50:\", sum_even_numbers)"
      ],
      "metadata": {
        "colab": {
          "base_uri": "https://localhost:8080/"
        },
        "id": "SgcEG8f0D0vh",
        "outputId": "3eed7b8e-eec6-47c1-a88a-62580bd220c4"
      },
      "execution_count": 12,
      "outputs": [
        {
          "output_type": "stream",
          "name": "stdout",
          "text": [
            "Sum of all even numbers between 1 and 50: 650\n"
          ]
        }
      ]
    },
    {
      "cell_type": "markdown",
      "source": [
        " #14 Write a program to reverse a string using a while loop"
      ],
      "metadata": {
        "id": "SxVuDFP0Ej_h"
      }
    },
    {
      "cell_type": "code",
      "source": [
        "# Input string from the user\n",
        "string = input(\"Enter a string: \")\n",
        "\n",
        "# Initialize variables\n",
        "reversed_string = \"\"\n",
        "index = len(string) - 1\n",
        "\n",
        "# Using while loop to reverse the string\n",
        "while index >= 0:\n",
        "    reversed_string += string[index]\n",
        "    index -= 1\n",
        "\n",
        "# Print the reversed string\n",
        "print(\"Reversed string:\", reversed_string)\n"
      ],
      "metadata": {
        "colab": {
          "base_uri": "https://localhost:8080/"
        },
        "id": "XcNwG7vtEmZk",
        "outputId": "bb62c748-fe0a-4ff0-b88b-b44832918f8e"
      },
      "execution_count": 13,
      "outputs": [
        {
          "output_type": "stream",
          "name": "stdout",
          "text": [
            "Enter a string: raj\n",
            "Reversed string: jar\n"
          ]
        }
      ]
    },
    {
      "cell_type": "markdown",
      "source": [
        "#15. Write a Python program to calculate the factorial of a number provided by the user using a while loop"
      ],
      "metadata": {
        "id": "b2d0nAmFE6Bs"
      }
    },
    {
      "cell_type": "code",
      "source": [
        "num = int(input(\"Enter a number to find its factorial: \"))\n",
        "\n",
        "# Initialize factorial variable\n",
        "factorial = 1\n",
        "\n",
        "# Check if the number is non-negative\n",
        "if num < 0:\n",
        "    print(\"Factorial is not defined for negative numbers.\")\n",
        "else:\n",
        "    # Using while loop to calculate the factorial\n",
        "    while num > 1:\n",
        "        factorial *= num\n",
        "        num -= 1\n",
        "\n",
        "    # Print the factorial\n",
        "    print(\"Factorial:\", factorial)\n"
      ],
      "metadata": {
        "id": "jbtG-E8YFBkl"
      },
      "execution_count": null,
      "outputs": []
    }
  ]
}